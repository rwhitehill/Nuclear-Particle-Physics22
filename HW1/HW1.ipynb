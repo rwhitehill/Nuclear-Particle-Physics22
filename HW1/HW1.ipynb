{
 "cells": [
  {
   "cell_type": "markdown",
   "id": "cbc0b1e4-6b14-4647-9275-e8445000f1bd",
   "metadata": {},
   "source": [
    "# Imports"
   ]
  },
  {
   "cell_type": "code",
   "execution_count": 1,
   "id": "56282385-f10e-45af-b731-07490b7cbb81",
   "metadata": {},
   "outputs": [],
   "source": [
    "import numpy as np\n",
    "import pandas as pd\n",
    "import pint\n",
    "from scipy.constants import hbar,c,m_e\n",
    "\n",
    "from itertools import combinations_with_replacement as cwr\n",
    "\n",
    "import sys\n",
    "sys.path.insert(0,'..')\n",
    "from properties import *"
   ]
  },
  {
   "cell_type": "code",
   "execution_count": 2,
   "id": "0474b84a-780c-44ae-91a0-02087c965410",
   "metadata": {},
   "outputs": [],
   "source": [
    "ureg = pint.UnitRegistry()\n",
    "Q_   = ureg.Quantity"
   ]
  },
  {
   "cell_type": "markdown",
   "id": "a3135e15-289a-4dcd-933a-345f94f93904",
   "metadata": {},
   "source": [
    "# Problem 3"
   ]
  },
  {
   "cell_type": "code",
   "execution_count": 3,
   "id": "d88af31b-e8f4-41a6-9e3e-4999eb2ce296",
   "metadata": {},
   "outputs": [
    {
     "name": "stdout",
     "output_type": "stream",
     "text": [
      "3.3E-07 MeV * s / m\n",
      "98.7 MeV\n",
      "5192.9\n"
     ]
    }
   ],
   "source": [
    "dx   = Q_(1e-13,'cm')\n",
    "hbar = Q_(hbar,'J*s')\n",
    "c    = Q_(c,'m/s')\n",
    "m_e  = Q_(m_e,'kg')\n",
    "\n",
    "\n",
    "p = (hbar/2/dx).to('kg*m/s')\n",
    "print('{:~.1E}'.format(p.to('MeV/m*s')))\n",
    "\n",
    "E2 = (p**2*c**2 + m_e**2*c**4).to('MeV**2')\n",
    "E  = (E2)**0.5\n",
    "print('{:~.1f}'.format(E.to('MeV')))\n",
    "\n",
    "actual = Q_(0.019,'MeV')\n",
    "\n",
    "print('%.1f'%(E/actual))"
   ]
  },
  {
   "cell_type": "markdown",
   "id": "5cd6a8f8-da2d-4b3d-8cff-5f1d59008782",
   "metadata": {},
   "source": [
    "# Problem 4"
   ]
  },
  {
   "cell_type": "code",
   "execution_count": 4,
   "id": "ca6cf020-dc0d-4447-bfbb-c5a5a2d2c787",
   "metadata": {},
   "outputs": [
    {
     "name": "stdout",
     "output_type": "stream",
     "text": [
      "939\n",
      "1318\n",
      "1193\n",
      "1107\n",
      "1.0\n"
     ]
    }
   ],
   "source": [
    "bo = baryon_octet().info\n",
    "\n",
    "# ['p', 'n', 'Lambda^{0}', 'Sigma^{+}', 'Sigma^{-}', 'Sigma^{0}', 'Xi^{-}', 'Xi^{0}']\n",
    "baryons = list(bo.keys())\n",
    "\n",
    "N   = baryons[:2]\n",
    "Xi  = baryons[6:8]\n",
    "Sig = baryons[3:6]\n",
    "\n",
    "m_N   = sum(bo[_]['m'] for _ in N)/2\n",
    "m_Xi  = sum(bo[_]['m'] for _ in Xi)/2\n",
    "m_Sig = sum(bo[_]['m'] for _ in Sig)/3\n",
    "\n",
    "print('%.0f'%m_N)\n",
    "print('%.0f'%m_Xi)\n",
    "print('%.0f'%m_Sig)\n",
    "\n",
    "m_Lam = (2*(m_N+m_Xi)-m_Sig)/3\n",
    "print('%.0f'%m_Lam)\n",
    "\n",
    "print('%.1f'%(bo['Lambda^{0}']['m']/m_Lam))"
   ]
  },
  {
   "cell_type": "markdown",
   "id": "23cae39c-2944-4013-bc5e-7b23cb8c2a97",
   "metadata": {},
   "source": [
    "# Problem 7"
   ]
  },
  {
   "cell_type": "code",
   "execution_count": 10,
   "id": "3c7748db-a61d-40f4-98c6-5058d7675ce8",
   "metadata": {},
   "outputs": [
    {
     "name": "stdout",
     "output_type": "stream",
     "text": [
      "(a)\n",
      "\tDelta^{-} --> n + pi(-)\n",
      "\tDelta^{-} --> Sigma^{-} + K(0)\n",
      "\n",
      "\tSigma^{*+} --> p + Kb(0)\n",
      "\tSigma^{*+} --> Lambda^{0} + pi(+)\n",
      "\tSigma^{*+} --> Sigma^{+} + pi(0)\n",
      "\tSigma^{*+} --> Sigma^{+} + eta\n",
      "\tSigma^{*+} --> Sigma^{0} + pi(+)\n",
      "\tSigma^{*+} --> Xi^{0} + K(+)\n",
      "\n",
      "\tXi^{*-} --> Lambda^{0} + K(-)\n",
      "\tXi^{*-} --> Sigma^{-} + Kb(0)\n",
      "\tXi^{*-} --> Sigma^{0} + K(-)\n",
      "\tXi^{*-} --> Xi^{-} + pi(0)\n",
      "\tXi^{*-} --> Xi^{-} + eta\n",
      "\tXi^{*-} --> Xi^{0} + pi(-)\n",
      "\n",
      "\n",
      "\n",
      "\n",
      "(b)\n",
      "\tDelta^{-} --> n + pi(-)\n",
      "\n",
      "\tSigma^{*+} --> Lambda^{0} + pi(+)\n",
      "\tSigma^{*+} --> Sigma^{+} + pi(0)\n",
      "\tSigma^{*+} --> Sigma^{0} + pi(+)\n",
      "\n",
      "\tXi^{*-} --> Xi^{-} + pi(0)\n",
      "\tXi^{*-} --> Xi^{0} + pi(-)\n",
      "\n"
     ]
    }
   ],
   "source": [
    "bd = baryon_decuplet().info\n",
    "bo = baryon_octet().info\n",
    "mo = meson_octet().info\n",
    "\n",
    "particles = ['Delta^{-}','Sigma^{*+}','Xi^{*-}']\n",
    "\n",
    "print('(a)',end='\\n')\n",
    "for particle in particles:\n",
    "    for baryon in bo.keys():\n",
    "        for meson in mo.keys():\n",
    "            Q_cond = bd[particle]['Q'] - (bo[baryon]['Q'] + mo[meson]['Q']) == 0\n",
    "            S_cond = bd[particle]['S'] - (bo[baryon]['S'] + mo[meson]['S']) == 0\n",
    "\n",
    "            if Q_cond and S_cond:\n",
    "                print('\\t%s --> %s + %s'%(particle,baryon,meson))\n",
    "    print()\n",
    "\n",
    "print(2*'\\n')\n",
    "print('(b)')\n",
    "for particle in particles:\n",
    "    for baryon in bo.keys():\n",
    "        for meson in mo.keys():\n",
    "            Q_cond = bd[particle]['Q'] - (bo[baryon]['Q'] + mo[meson]['Q']) == 0\n",
    "            S_cond = bd[particle]['S'] - (bo[baryon]['S'] + mo[meson]['S']) == 0\n",
    "            M_cond = bd[particle]['m'] - (bo[baryon]['m'] + mo[meson]['m']) >= 0\n",
    "\n",
    "            if Q_cond and S_cond and M_cond:\n",
    "                print('\\t%s --> %s + %s'%(particle,baryon,meson))\n",
    "    print()"
   ]
  },
  {
   "cell_type": "markdown",
   "id": "ca3b9c20-ab2e-484b-8238-a952e29ac534",
   "metadata": {},
   "source": [
    "# Problem 14"
   ]
  },
  {
   "cell_type": "code",
   "execution_count": 7,
   "id": "85a0df28-8bd0-4b0c-9341-d8be7f894065",
   "metadata": {},
   "outputs": [],
   "source": [
    "q_info = quark().info\n",
    "quarks = ['u','d','s','c']\n",
    "baryons = list(cwr(quarks,3))\n",
    "\n",
    "table = {'Baryon': [], 'charm': []}\n",
    "for _ in baryons:\n",
    "    baryon = ''.join(_)\n",
    "    table['Baryon'].append(r'$%s$'%baryon)\n",
    "    table['charm'].append('%.0f'%baryon.count('c'))\n",
    "\n",
    "table = pd.DataFrame(table)\n",
    "table.to_latex(buf='prob14.tex',\n",
    "        index=False,\n",
    "        escape=False,\n",
    "        column_format='cc')\n"
   ]
  },
  {
   "cell_type": "markdown",
   "id": "7e68e27d-3906-4a75-9632-8731c953279d",
   "metadata": {},
   "source": [
    "# Problem 15"
   ]
  },
  {
   "cell_type": "code",
   "execution_count": 8,
   "id": "c633eef7-1b2f-42dd-8165-61d85e2f9f0c",
   "metadata": {},
   "outputs": [],
   "source": [
    "q_info = quark().info\n",
    "quarks = ['u','d','s','c']\n",
    "antiquarks = ['ub','db','sb','cb']\n",
    "\n",
    "table = {'Meson': [], 'charm': []}\n",
    "for q in quarks:\n",
    "    for qb in antiquarks:\n",
    "        table['Meson'].append(r'$%s\\bar{%s}$'%(q,qb[0]))\n",
    "        table['charm'].append((q=='c')-(qb=='cb'))\n",
    "\n",
    "table = pd.DataFrame(table)\n",
    "table.to_latex(buf='prob15.tex',\n",
    "        index=False,\n",
    "        escape=False,\n",
    "        column_format='cc')\n"
   ]
  },
  {
   "cell_type": "markdown",
   "id": "db8d4e80-b0e8-4e0b-82aa-2400113dc1ae",
   "metadata": {},
   "source": [
    "# Problem 17"
   ]
  },
  {
   "cell_type": "code",
   "execution_count": 9,
   "id": "cd98cd8b-20b4-4d94-abbb-19dc7a9a4a9c",
   "metadata": {},
   "outputs": [],
   "source": [
    "m = {'u':336,'d':336,'s':540}\n",
    "m_bind = -62\n",
    "\n",
    "bo = baryon_octet().info \n",
    "\n",
    "table = {'Baryon ($qqq$)': [],\n",
    "         'Calculated Mass (\\qty{}{\\MeV})': [],\n",
    "         'Percent Error from PDG': []}\n",
    "\n",
    "table_keys = list(table.keys())\n",
    "for baryon in bo.keys():\n",
    "    table[table_keys[0]].append(r'$%s%s~(%s)$'%('\\\\' if baryon not in ['p','n'] else '',baryon,''.join(bo[baryon]['valence'])))\n",
    "\n",
    "    temp = sum([m[_] for _ in bo[baryon]['valence']]) + m_bind\n",
    "    err  = (temp - bo[baryon]['m'])/bo[baryon]['m']*100\n",
    "\n",
    "    table[table_keys[1]].append('%.0f'%temp)\n",
    "    table[table_keys[2]].append(r'%.2f\\%%'%err)\n",
    "\n",
    "table = pd.DataFrame(table)\n",
    "table.to_latex(buf='prob17.tex',\n",
    "        index=False,\n",
    "        escape=False,\n",
    "        column_format='ccc')"
   ]
  },
  {
   "cell_type": "code",
   "execution_count": null,
   "id": "6d0cba65-0e64-4684-9b33-9fc720cff483",
   "metadata": {},
   "outputs": [],
   "source": []
  },
  {
   "cell_type": "code",
   "execution_count": null,
   "id": "cd8ea7f9-46a7-48fa-8d29-6044a8e7dc66",
   "metadata": {},
   "outputs": [],
   "source": []
  },
  {
   "cell_type": "code",
   "execution_count": null,
   "id": "0c6349d7-50ec-4d34-a54d-490cece344f9",
   "metadata": {},
   "outputs": [],
   "source": []
  },
  {
   "cell_type": "code",
   "execution_count": null,
   "id": "c5858d65-b7e4-4d46-b4b1-3e84aa7c5214",
   "metadata": {},
   "outputs": [],
   "source": []
  }
 ],
 "metadata": {
  "kernelspec": {
   "display_name": "Python 3 (ipykernel)",
   "language": "python",
   "name": "python3"
  },
  "language_info": {
   "codemirror_mode": {
    "name": "ipython",
    "version": 3
   },
   "file_extension": ".py",
   "mimetype": "text/x-python",
   "name": "python",
   "nbconvert_exporter": "python",
   "pygments_lexer": "ipython3",
   "version": "3.9.7"
  }
 },
 "nbformat": 4,
 "nbformat_minor": 5
}
