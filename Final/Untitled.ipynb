{
 "cells": [
  {
   "cell_type": "code",
   "execution_count": 1,
   "id": "e1e3b1d0-f5c4-4d80-b035-b234469d5ff9",
   "metadata": {},
   "outputs": [],
   "source": [
    "import sympy as sp"
   ]
  },
  {
   "cell_type": "code",
   "execution_count": 5,
   "id": "8e1c1415-72b0-44a7-8763-524837ffaeaf",
   "metadata": {},
   "outputs": [],
   "source": [
    "th12,th13,th23 = sp.symbols(r'\\theta_{12} \\theta_{13} \\theta_{23}',real=True)\n",
    "c12,c13,c23 = sp.cos(th12),sp.cos(th13),sp.cos(th23)\n",
    "s12,s13,s23 = sp.sin(th12),sp.sin(th13),sp.sin(th23)\n",
    "d = sp.symbols(r'\\delta',real=True)\n",
    "ep = sp.exp(sp.I*d)\n",
    "em = sp.exp(-sp.I*d)"
   ]
  },
  {
   "cell_type": "code",
   "execution_count": 6,
   "id": "f982f73a-e9ef-4e75-b7cb-9160af497047",
   "metadata": {},
   "outputs": [
    {
     "data": {
      "text/latex": [
       "$\\displaystyle e^{i \\delta}$"
      ],
      "text/plain": [
       "exp(I*\\delta)"
      ]
     },
     "execution_count": 6,
     "metadata": {},
     "output_type": "execute_result"
    }
   ],
   "source": [
    "ep"
   ]
  },
  {
   "cell_type": "code",
   "execution_count": 38,
   "id": "7e34a811-010f-4c7b-a4f4-083d736f1102",
   "metadata": {},
   "outputs": [
    {
     "data": {
      "text/latex": [
       "$\\displaystyle \\left[\\begin{matrix}\\cos{\\left(\\theta_{12} \\right)} \\cos{\\left(\\theta_{13} \\right)} & \\sin{\\left(\\theta_{12} \\right)} \\cos{\\left(\\theta_{13} \\right)} & e^{- i \\delta} \\sin{\\left(\\theta_{13} \\right)}\\\\- e^{i \\delta} \\sin{\\left(\\theta_{13} \\right)} \\sin{\\left(\\theta_{23} \\right)} \\cos{\\left(\\theta_{12} \\right)} - \\sin{\\left(\\theta_{12} \\right)} \\cos{\\left(\\theta_{23} \\right)} & - e^{i \\delta} \\sin{\\left(\\theta_{12} \\right)} \\sin{\\left(\\theta_{13} \\right)} \\sin{\\left(\\theta_{23} \\right)} + \\cos{\\left(\\theta_{12} \\right)} \\cos{\\left(\\theta_{23} \\right)} & \\sin{\\left(\\theta_{23} \\right)} \\cos{\\left(\\theta_{13} \\right)}\\\\- e^{i \\delta} \\sin{\\left(\\theta_{13} \\right)} \\cos{\\left(\\theta_{12} \\right)} \\cos{\\left(\\theta_{23} \\right)} + \\sin{\\left(\\theta_{12} \\right)} \\sin{\\left(\\theta_{23} \\right)} & - e^{i \\delta} \\sin{\\left(\\theta_{12} \\right)} \\sin{\\left(\\theta_{13} \\right)} \\cos{\\left(\\theta_{23} \\right)} - \\sin{\\left(\\theta_{23} \\right)} \\cos{\\left(\\theta_{12} \\right)} & \\cos{\\left(\\theta_{13} \\right)} \\cos{\\left(\\theta_{23} \\right)}\\end{matrix}\\right]$"
      ],
      "text/plain": [
       "Matrix([\n",
       "[                                                                    cos(\\theta_{12})*cos(\\theta_{13}),                                                                     sin(\\theta_{12})*cos(\\theta_{13}),   exp(-I*\\delta)*sin(\\theta_{13})],\n",
       "[-exp(I*\\delta)*sin(\\theta_{13})*sin(\\theta_{23})*cos(\\theta_{12}) - sin(\\theta_{12})*cos(\\theta_{23}), -exp(I*\\delta)*sin(\\theta_{12})*sin(\\theta_{13})*sin(\\theta_{23}) + cos(\\theta_{12})*cos(\\theta_{23}), sin(\\theta_{23})*cos(\\theta_{13})],\n",
       "[-exp(I*\\delta)*sin(\\theta_{13})*cos(\\theta_{12})*cos(\\theta_{23}) + sin(\\theta_{12})*sin(\\theta_{23}), -exp(I*\\delta)*sin(\\theta_{12})*sin(\\theta_{13})*cos(\\theta_{23}) - sin(\\theta_{23})*cos(\\theta_{12}), cos(\\theta_{13})*cos(\\theta_{23})]])"
      ]
     },
     "execution_count": 38,
     "metadata": {},
     "output_type": "execute_result"
    }
   ],
   "source": [
    "V = sp.Matrix([\n",
    "    [c12*c13,s12*c13,s13*em],\n",
    "    [-s12*c23-c12*s23*s13*ep,c12*c23-s12*s23*s13*ep,s23*c13],\n",
    "    [s12*s23-c12*c23*s13*ep,-c12*s23-s12*c23*s13*ep,c23*c13]\n",
    "])\n",
    "V"
   ]
  },
  {
   "cell_type": "code",
   "execution_count": 40,
   "id": "35ea97b9-7ca5-4c71-98dc-ad1a603e0e78",
   "metadata": {},
   "outputs": [
    {
     "data": {
      "text/latex": [
       "$\\displaystyle \\left[\\begin{matrix}1 & 0 & 0\\\\0 & 1 & 0\\\\0 & 0 & 1\\end{matrix}\\right]$"
      ],
      "text/plain": [
       "Matrix([\n",
       "[1, 0, 0],\n",
       "[0, 1, 0],\n",
       "[0, 0, 1]])"
      ]
     },
     "metadata": {},
     "output_type": "display_data"
    }
   ],
   "source": [
    "A = V.conjugate().T*V\n",
    "for i in range(3):\n",
    "    for j in range(3):\n",
    "        A[i,j] = A[i,j].cancel().factor().simplify()\n",
    "display(A)"
   ]
  },
  {
   "cell_type": "code",
   "execution_count": 41,
   "id": "72612dad-230a-48a2-9de7-aba153839b8b",
   "metadata": {},
   "outputs": [],
   "source": [
    "import numpy as np"
   ]
  },
  {
   "cell_type": "code",
   "execution_count": 43,
   "id": "6b3de7b7-b2d8-45e8-a008-a369742b3447",
   "metadata": {},
   "outputs": [],
   "source": [
    "import matplotlib.pyplot as plt"
   ]
  },
  {
   "cell_type": "code",
   "execution_count": 64,
   "id": "ea172e22-ac01-4ca5-b786-abad3a89f698",
   "metadata": {},
   "outputs": [],
   "source": [
    "def alpha_s(Q2):\n",
    "    return 4.0*np.pi/7.0/np.log(Q2/0.34**2.0)"
   ]
  },
  {
   "cell_type": "code",
   "execution_count": 67,
   "id": "98164ca6-7c66-4898-b94b-9b8f7f1b2813",
   "metadata": {},
   "outputs": [
    {
     "data": {
      "image/png": "[encoded data removed]",
      "text/plain": [
       "<Figure size 504x360 with 1 Axes>"
      ]
     },
     "metadata": {
      "needs_background": "light"
     },
     "output_type": "display_data"
    }
   ],
   "source": [
    "Q2 = np.logspace(-0.5,2)\n",
    "alpha = alpha_s(Q2)\n",
    "\n",
    "fig,ax = plt.subplots(nrows=1,ncols=1,figsize=(7,5))\n",
    "ax.plot(Q2,alpha,'k-')\n",
    "ax.semilogx()\n",
    "ax.set_xlabel(r'$Q^2~[{\\rm GeV}]$',size=20)\n",
    "ax.set_ylabel(r'$\\alpha_s(Q^2)$',size=20)\n",
    "ax.axhline(y=0.4,color='r',ls='--')\n",
    "ax.tick_params(axis='both',which='major',direction='in',labelsize=20)\n",
    "\n",
    "plt.show()"
   ]
  },
  {
   "cell_type": "code",
   "execution_count": null,
   "id": "30ec4204-95c0-45c0-96d1-9bec4830daa8",
   "metadata": {},
   "outputs": [],
   "source": []
  },
  {
   "cell_type": "code",
   "execution_count": null,
   "id": "b99bf7ea-46d2-4e90-8ba9-a5e83d2efa34",
   "metadata": {},
   "outputs": [],
   "source": []
  }
 ],
 "metadata": {
  "kernelspec": {
   "display_name": "Python 3 (ipykernel)",
   "language": "python",
   "name": "python3"
  },
  "language_info": {
   "codemirror_mode": {
    "name": "ipython",
    "version": 3
   },
   "file_extension": ".py",
   "mimetype": "text/x-python",
   "name": "python",
   "nbconvert_exporter": "python",
   "pygments_lexer": "ipython3",
   "version": "3.9.7"
  }
 },
 "nbformat": 4,
 "nbformat_minor": 5
}
