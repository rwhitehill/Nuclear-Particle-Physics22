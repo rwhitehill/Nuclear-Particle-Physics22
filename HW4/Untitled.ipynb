{
 "cells": [
  {
   "cell_type": "code",
   "execution_count": 1,
   "id": "7d342ddd-a9c3-4089-b560-c0f84f719c9f",
   "metadata": {},
   "outputs": [],
   "source": [
    "import sympy as sp"
   ]
  },
  {
   "cell_type": "code",
   "execution_count": 53,
   "id": "e9c1ae0b-537f-4eeb-a684-e8cb2970f60c",
   "metadata": {},
   "outputs": [],
   "source": [
    "E, th = sp.symbols(r'E \\theta',real=True,positive=True)\n",
    "mc = sp.symbols(r'm_{C}',real=True,positive=True)\n",
    "eps = sp.symbols(r'\\epsilon',real=True,positive=True)\n",
    "g = sp.symbols(r'g',real=True,positive=True)"
   ]
  },
  {
   "cell_type": "code",
   "execution_count": 34,
   "id": "ddcb0606-4aa4-4c19-be34-07a4a8e6e141",
   "metadata": {},
   "outputs": [],
   "source": [
    "s = 4*E**2\n",
    "t = -2*E**2*(1 + sp.cos(th))\n",
    "u = -2*E**2*(1 - sp.cos(th))"
   ]
  },
  {
   "cell_type": "code",
   "execution_count": 51,
   "id": "9d1d55fc-d564-4716-9dce-e87393bf1eb2",
   "metadata": {},
   "outputs": [],
   "source": [
    "M_g2 = 1/s + 1/t"
   ]
  },
  {
   "cell_type": "code",
   "execution_count": 52,
   "id": "8db2bac4-8c75-4959-bc87-6688e04aafcc",
   "metadata": {},
   "outputs": [
    {
     "data": {
      "text/latex": [
       "$\\displaystyle \\frac{\\left(\\cos{\\left(\\theta \\right)} - 1\\right)^{2}}{16 E^{4} \\left(\\cos{\\left(\\theta \\right)} + 1\\right)^{2}}$"
      ],
      "text/plain": [
       "(cos(\\theta) - 1)**2/(16*E**4*(cos(\\theta) + 1)**2)"
      ]
     },
     "execution_count": 52,
     "metadata": {},
     "output_type": "execute_result"
    }
   ],
   "source": [
    "(M_g2**2).simplify()"
   ]
  },
  {
   "cell_type": "code",
   "execution_count": 42,
   "id": "489e7952-4a15-4fe8-88b2-b27eff539943",
   "metadata": {},
   "outputs": [
    {
     "data": {
      "text/latex": [
       "$\\displaystyle \\frac{4 \\left(- 4 E^{2} + m_{C}^{2}\\right)}{m_{C}^{6}}$"
      ],
      "text/plain": [
       "4*(-4*E**2 + m_{C}**2)/m_{C}**6"
      ]
     },
     "execution_count": 42,
     "metadata": {},
     "output_type": "execute_result"
    }
   ],
   "source": [
    "M_g22 = M_g2.subs(E,eps*mc)**2\n",
    "M_g22.simplify().series(eps,0,3).removeO().subs(eps,E/mc).simplify()"
   ]
  },
  {
   "cell_type": "code",
   "execution_count": 32,
   "id": "04e19b32-6434-4a04-9d74-5190310cc344",
   "metadata": {},
   "outputs": [
    {
     "data": {
      "text/latex": [
       "$\\displaystyle \\frac{\\pi}{2}$"
      ],
      "text/plain": [
       "pi/2"
      ]
     },
     "execution_count": 32,
     "metadata": {},
     "output_type": "execute_result"
    }
   ],
   "source": [
    "sp.integrate(sp.sin(th/2)**2,(th,0,sp.pi))"
   ]
  },
  {
   "cell_type": "code",
   "execution_count": 72,
   "id": "37a673d2-9f5c-47be-b5bf-23d5bc27abfb",
   "metadata": {},
   "outputs": [
    {
     "data": {
      "text/latex": [
       "$\\displaystyle \\text{NaN}$"
      ],
      "text/plain": [
       "nan"
      ]
     },
     "execution_count": 72,
     "metadata": {},
     "output_type": "execute_result"
    }
   ],
   "source": [
    "dxsec1 = (g**2*sp.tan(th/2)**2/(64*sp.pi*E**3))**2\n",
    "dxsec2 = (g**2/(16*sp.pi*E**3*sp.sin(th)**2))**2/2\n",
    "R = dxsec1/dxsec2\n",
    "R.subs(th,sp.pi)"
   ]
  },
  {
   "cell_type": "code",
   "execution_count": 17,
   "id": "2e7cab6d-7c07-46e7-bbaa-f4e60285318d",
   "metadata": {},
   "outputs": [
    {
     "data": {
      "text/latex": [
       "$\\displaystyle \\left[\\begin{matrix}a_{+}^{2} - a_{-}^{2} \\sigma_{1}^{2} & 0\\\\0 & - a_{+}^{2} + a_{-}^{2} \\sigma_{1}^{2}\\end{matrix}\\right]$"
      ],
      "text/plain": [
       "Matrix([\n",
       "[a_{+}**2 - a_{-}**2*\\sigma_1**2,                                0],\n",
       "[                              0, -a_{+}**2 + a_{-}**2*\\sigma_1**2]])"
      ]
     },
     "execution_count": 17,
     "metadata": {},
     "output_type": "execute_result"
    }
   ],
   "source": [
    "ap,am = sp.symbols(r'a_{+} a_{-}',real=True)\n",
    "sigma1 = sp.symbols(r'\\sigma_1',commutative=False)\n",
    "S = sp.Matrix([[ap,am*sigma1],[am*sigma1,ap]])\n",
    "gam0 = sp.Matrix([[1,0],[0,-1]])\n",
    "S*gam0*S"
   ]
  },
  {
   "cell_type": "code",
   "execution_count": 22,
   "id": "f12268e6-b739-4f5a-8b8c-78e48d746f13",
   "metadata": {},
   "outputs": [
    {
     "data": {
      "text/latex": [
       "$\\displaystyle \\left[\\begin{matrix}1\\\\0\\\\\\frac{p_{z}}{E + m}\\\\\\frac{p_{x} - i p_{y}}{E + m}\\end{matrix}\\right]$"
      ],
      "text/plain": [
       "Matrix([\n",
       "[                    1],\n",
       "[                    0],\n",
       "[          p_z/(E + m)],\n",
       "[(p_x - I*p_y)/(E + m)]])"
      ]
     },
     "execution_count": 22,
     "metadata": {},
     "output_type": "execute_result"
    }
   ],
   "source": [
    "px,py,pz = sp.symbols(r'p_x p_y p_z',real=True)\n",
    "E,m = sp.symbols(r'E m',real=True,positive=True)\n",
    "u1 = sp.Matrix([1,0,pz/(E+m),(px + sp.I*py)/(E+m)])\n",
    "u1.conjugate()"
   ]
  },
  {
   "cell_type": "code",
   "execution_count": 2,
   "id": "550b0775-42fe-4c6e-b968-8dba20514db3",
   "metadata": {},
   "outputs": [],
   "source": [
    "E,m,th = sp.symbols(r'E m_{\\tau} \\theta',real=True)"
   ]
  },
  {
   "cell_type": "code",
   "execution_count": 3,
   "id": "cdf130f4-3f1e-4338-a7c5-3f6fa1ceac73",
   "metadata": {},
   "outputs": [],
   "source": [
    "p = sp.sqrt(E**2 - m**2)\n",
    "expr = (E**2 + E*p*sp.cos(th))**2 + (E**2 - E*p*sp.cos(th))**2 - 2*E**2*m**2"
   ]
  },
  {
   "cell_type": "code",
   "execution_count": 6,
   "id": "1edb9e52-c3ad-4de6-84b8-708d9aa020f2",
   "metadata": {},
   "outputs": [
    {
     "data": {
      "text/latex": [
       "$\\displaystyle 2 E^{2} \\left(E - m_{\\tau}\\right) \\left(E + m_{\\tau}\\right) \\left(\\cos^{2}{\\left(\\theta \\right)} + 1\\right)$"
      ],
      "text/plain": [
       "2*E**2*(E - m_{\\tau})*(E + m_{\\tau})*(cos(\\theta)**2 + 1)"
      ]
     },
     "execution_count": 6,
     "metadata": {},
     "output_type": "execute_result"
    }
   ],
   "source": [
    "expr.simplify().factor()"
   ]
  },
  {
   "cell_type": "code",
   "execution_count": 12,
   "id": "1d1244be-c28f-4040-89f2-acf24f19e59d",
   "metadata": {},
   "outputs": [
    {
     "data": {
      "text/latex": [
       "$\\displaystyle \\frac{1}{2}$"
      ],
      "text/plain": [
       "1/2"
      ]
     },
     "execution_count": 12,
     "metadata": {},
     "output_type": "execute_result"
    }
   ],
   "source": [
    "num = 128*sp.pi**2*E**2\n",
    "den = 64*sp.pi**2*(4*E**2)\n",
    "num/den"
   ]
  },
  {
   "cell_type": "code",
   "execution_count": 13,
   "id": "8efd98cf-45be-4128-ba1c-f8c228349c7f",
   "metadata": {},
   "outputs": [
    {
     "data": {
      "text/plain": [
       "256"
      ]
     },
     "execution_count": 13,
     "metadata": {},
     "output_type": "execute_result"
    }
   ],
   "source": [
    "4*64"
   ]
  },
  {
   "cell_type": "code",
   "execution_count": 14,
   "id": "597d3fb9-59e0-458b-899c-1fb125fce42a",
   "metadata": {},
   "outputs": [
    {
     "data": {
      "text/plain": [
       "0.09671024561764846"
      ]
     },
     "execution_count": 14,
     "metadata": {},
     "output_type": "execute_result"
    }
   ],
   "source": [
    "(1 - (1.77686/2.0)**2.0)**(3.0/2.0)"
   ]
  },
  {
   "cell_type": "code",
   "execution_count": 17,
   "id": "fbef4f62-953a-4f46-85df-825479bc8ca5",
   "metadata": {},
   "outputs": [],
   "source": [
    "import matplotlib.pyplot as plt\n",
    "import numpy as np"
   ]
  },
  {
   "cell_type": "code",
   "execution_count": 16,
   "id": "f028c01a-23a0-445f-ae06-6560291f50ba",
   "metadata": {},
   "outputs": [],
   "source": [
    "f = lambda E: (1 - (1.77686/E)**2)**(3.0/2.0)"
   ]
  },
  {
   "cell_type": "code",
   "execution_count": 18,
   "id": "6dad6855-53b5-43f7-8009-f3bec7e9ac6f",
   "metadata": {},
   "outputs": [],
   "source": [
    "E = np.linspace(2.0,10.0)"
   ]
  },
  {
   "cell_type": "code",
   "execution_count": 25,
   "id": "9de22bba-19d2-4a91-a6d2-56fce4420060",
   "metadata": {},
   "outputs": [
    {
     "data": {
      "image/png": "[encoded data removed]",
      "text/plain": [
       "<Figure size 432x288 with 1 Axes>"
      ]
     },
     "metadata": {
      "needs_background": "light"
     },
     "output_type": "display_data"
    }
   ],
   "source": [
    "plt.plot(1.77686/E,f(E),'k')\n",
    "plt.axhline(1.0,color='r',ls='--')\n",
    "plt.show()"
   ]
  },
  {
   "cell_type": "code",
   "execution_count": null,
   "id": "594e2639-efaa-48f8-a5ed-bf1c33b7f82c",
   "metadata": {},
   "outputs": [],
   "source": []
  }
 ],
 "metadata": {
  "kernelspec": {
   "display_name": "Python 3 (ipykernel)",
   "language": "python",
   "name": "python3"
  },
  "language_info": {
   "codemirror_mode": {
    "name": "ipython",
    "version": 3
   },
   "file_extension": ".py",
   "mimetype": "text/x-python",
   "name": "python",
   "nbconvert_exporter": "python",
   "pygments_lexer": "ipython3",
   "version": "3.9.7"
  }
 },
 "nbformat": 4,
 "nbformat_minor": 5
}
