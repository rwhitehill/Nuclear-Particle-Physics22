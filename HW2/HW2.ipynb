{
 "cells": [
  {
   "cell_type": "markdown",
   "id": "80b3d7b6-47cf-4b3c-8437-7b0da1cbd324",
   "metadata": {},
   "source": [
    "# Imports"
   ]
  },
  {
   "cell_type": "code",
   "execution_count": 1,
   "id": "fcea7fd5-dcdf-4f6a-a996-692352bcc7b1",
   "metadata": {},
   "outputs": [],
   "source": [
    "import sys\n",
    "sys.path.insert(0,'..')\n",
    "from properties import *\n",
    "\n",
    "import pint\n",
    "ureg = pint.UnitRegistry()\n",
    "Q_   = ureg.Quantity\n",
    "\n",
    "import sympy as sp\n",
    "import numpy as np"
   ]
  },
  {
   "cell_type": "markdown",
   "id": "be761465-b80d-43e6-a8d3-e4d50f97d1d9",
   "metadata": {},
   "source": [
    "# Problem 1"
   ]
  },
  {
   "cell_type": "markdown",
   "id": "50c2509e-9561-4e44-bd1e-993980767823",
   "metadata": {},
   "source": [
    "### Part (a)"
   ]
  },
  {
   "cell_type": "code",
   "execution_count": 2,
   "id": "0d8e23f9-fd27-4f5a-a9a2-aba356ab1b39",
   "metadata": {},
   "outputs": [],
   "source": [
    "q_u = sp.Symbol(r'q_u',real=True,postive=True)\n",
    "q_d = sp.Symbol(r'q_d',real=True,postive=True)\n",
    "q_s = sp.Symbol(r'q_s',real=True,postive=True)\n",
    "\n",
    "r    = sp.Symbol(r'\\langle r \\rangle',real=True,positive=True)\n",
    "eps0 = sp.Symbol(r'\\epsilon_0')"
   ]
  },
  {
   "cell_type": "code",
   "execution_count": 3,
   "id": "afe2f6c0-0fc2-4dcc-8b17-39206e102722",
   "metadata": {},
   "outputs": [
    {
     "name": "stdout",
     "output_type": "stream",
     "text": [
      "V_{\\Sigma^{0}} = - \\frac{q_{d} q_{s} + q_{d} q_{u} + q_{s} q_{u}}{4 \\pi \\epsilon_{0} \\langle r \\rangle}\n",
      "V_{\\Sigma^{+}} = - \\frac{q_{u} \\left(2 q_{s} + q_{u}\\right)}{4 \\pi \\epsilon_{0} \\langle r \\rangle}\n",
      "V_{\\Sigma^{-}} = - \\frac{q_{d} \\left(q_{d} + 2 q_{s}\\right)}{4 \\pi \\epsilon_{0} \\langle r \\rangle}\n"
     ]
    }
   ],
   "source": [
    "Vz = -(q_u*q_d + q_u*q_s + q_d*q_s)/4/sp.pi/eps0/r\n",
    "Vp = -(q_u*q_u + q_u*q_s + q_u*q_s)/4/sp.pi/eps0/r\n",
    "Vn = -(q_d*q_d + q_d*q_s + q_d*q_s)/4/sp.pi/eps0/r\n",
    "\n",
    "print(sp.latex(sp.Eq(sp.Symbol('V_{\\Sigma^{0}}'),Vz.simplify())))\n",
    "print(sp.latex(sp.Eq(sp.Symbol('V_{\\Sigma^{+}}'),Vp.simplify())))\n",
    "print(sp.latex(sp.Eq(sp.Symbol('V_{\\Sigma^{-}}'),Vn.simplify())))"
   ]
  },
  {
   "cell_type": "code",
   "execution_count": 4,
   "id": "40befa27-2b96-4093-8364-00b77421d944",
   "metadata": {},
   "outputs": [],
   "source": [
    "Vz_num = sp.lambdify((q_u,q_d,q_s,r,eps0),Vz,'numpy')\n",
    "Vp_num = sp.lambdify((q_u,q_s,r,eps0),Vp,'numpy')\n",
    "Vn_num = sp.lambdify((q_d,q_s,r,eps0),Vn,'numpy')"
   ]
  },
  {
   "cell_type": "code",
   "execution_count": 5,
   "id": "706efd98-608f-4610-b095-6b1ffa7f0e06",
   "metadata": {},
   "outputs": [],
   "source": [
    "qe   = Q_(1.602e-19,'C')\n",
    "qu   = quark().info['u']['Q']*qe\n",
    "qd   = quark().info['d']['Q']*qe\n",
    "qs   = quark().info['s']['Q']*qe\n",
    "r    = Q_(1.0,'fm')\n",
    "eps_0 = Q_(8.854e-12,'F/m')"
   ]
  },
  {
   "cell_type": "code",
   "execution_count": 6,
   "id": "6fb60169-c149-4cf5-a7ce-3ae7ee43267a",
   "metadata": {},
   "outputs": [
    {
     "name": "stdout",
     "output_type": "stream",
     "text": [
      "0: 0.48 MeV\n",
      "+: 0.00 MeV\n",
      "-: -0.48 MeV\n"
     ]
    }
   ],
   "source": [
    "print('0: {:.2f~P}'.format(Vz_num(qu,qd,qs,r,eps_0).to('MeV')))\n",
    "print('+: {:.2f~P}'.format(Vp_num(qu,qs,r,eps_0).to('MeV')))\n",
    "print('-: {:.2f~P}'.format(Vn_num(qd,qs,r,eps_0).to('MeV')))"
   ]
  },
  {
   "cell_type": "markdown",
   "id": "0c596854-99c1-44a2-b3c9-ae6a3643e7b2",
   "metadata": {},
   "source": [
    "### Part (b)"
   ]
  },
  {
   "cell_type": "code",
   "execution_count": 7,
   "id": "2bef38d9-f34d-40b7-b38d-9e3f9a314b75",
   "metadata": {},
   "outputs": [],
   "source": [
    "m_Sig = sp.Symbol(r'm_{\\Sigma}',real=True,positive=True)\n",
    "r     = sp.Symbol(r'\\langle r \\rangle',real=True,positive=True)\n",
    "G     = sp.Symbol(r'G',real=True,positive=True)"
   ]
  },
  {
   "cell_type": "code",
   "execution_count": 8,
   "id": "6ec02d84-93d4-47b3-ae94-863c959b1b63",
   "metadata": {},
   "outputs": [],
   "source": [
    "V_g = G*(3*(m_Sig/3)**2)/r"
   ]
  },
  {
   "cell_type": "code",
   "execution_count": 9,
   "id": "7a761166-7be3-4108-9af6-70e8878765a6",
   "metadata": {},
   "outputs": [
    {
     "name": "stdout",
     "output_type": "stream",
     "text": [
      "V = \\frac{G m_{\\Sigma}^{2}}{3 \\langle r \\rangle}\n"
     ]
    }
   ],
   "source": [
    "print(sp.latex(sp.Eq(sp.Symbol('V'),V_g)))"
   ]
  },
  {
   "cell_type": "code",
   "execution_count": 10,
   "id": "73f60388-d47f-4645-84e8-aba3b438e44e",
   "metadata": {},
   "outputs": [],
   "source": [
    "Vg_num = sp.lambdify((m_Sig,r,G),V_g,'numpy')"
   ]
  },
  {
   "cell_type": "code",
   "execution_count": 11,
   "id": "f4a27ab6-df07-4688-b300-e4cc2c61d784",
   "metadata": {},
   "outputs": [],
   "source": [
    "c     = Q_(2.99792458e8,'m/s')\n",
    "mSigz = Q_(baryon_octet().info['Sigma^{0}']['m'],'MeV')/c**2\n",
    "mSigp = Q_(baryon_octet().info['Sigma^{+}']['m'],'MeV')/c**2\n",
    "mSign = Q_(baryon_octet().info['Sigma^{-}']['m'],'MeV')/c**2\n",
    "mSig  = (mSigz + mSigp + mSign)/3.0\n",
    "\n",
    "r_    = Q_(1.0,'fm')\n",
    "G_   = Q_(6.67430e-11,'N*m**2/kg**2')"
   ]
  },
  {
   "cell_type": "code",
   "execution_count": 12,
   "id": "cd779258-af52-4995-bcd5-3df9d47f7c06",
   "metadata": {},
   "outputs": [
    {
     "name": "stdout",
     "output_type": "stream",
     "text": [
      "6.28×10⁻³⁷ MeV\n"
     ]
    }
   ],
   "source": [
    "print('{:.2e~P}'.format(Vg_num(mSig,r_,G_).to('MeV')))"
   ]
  },
  {
   "cell_type": "markdown",
   "id": "6fea820a-222f-4543-8b5f-d6c21a44b975",
   "metadata": {},
   "source": [
    "### Part (c)"
   ]
  },
  {
   "cell_type": "code",
   "execution_count": 33,
   "id": "84a3c10f-bac9-4950-a366-4df7d297f77c",
   "metadata": {},
   "outputs": [
    {
     "data": {
      "text/latex": [
       "$\\displaystyle m_{\\Sigma^{0}} = - V + m_{d} + m_{s} + m_{u}$"
      ],
      "text/plain": [
       "Eq(m_{\\Sigma^{0}}, -V + m_d + m_s + m_u)"
      ]
     },
     "metadata": {},
     "output_type": "display_data"
    },
    {
     "data": {
      "text/latex": [
       "$\\displaystyle m_{\\Sigma^{+}} = m_{s} + 2 m_{u}$"
      ],
      "text/plain": [
       "Eq(m_{\\Sigma^{+}}, m_s + 2*m_u)"
      ]
     },
     "metadata": {},
     "output_type": "display_data"
    },
    {
     "data": {
      "text/latex": [
       "$\\displaystyle m_{\\Sigma^{-}} = V + 2 m_{d} + m_{s}$"
      ],
      "text/plain": [
       "Eq(m_{\\Sigma^{-}}, V + 2*m_d + m_s)"
      ]
     },
     "metadata": {},
     "output_type": "display_data"
    }
   ],
   "source": [
    "m_u = sp.Symbol(r'm_u',real=True,positive=True)\n",
    "m_d = sp.Symbol(r'm_d',real=True,positive=True)\n",
    "m_s = sp.Symbol(r'm_s',real=True,positive=True)\n",
    "V   = sp.Symbol(r'V'  ,real=True,positive=True)\n",
    "\n",
    "m_Sigz = sp.Symbol(r'm_{\\Sigma^{0}}',real=True,positive=True)\n",
    "m_Sigp = sp.Symbol(r'm_{\\Sigma^{+}}',real=True,positive=True)\n",
    "m_Sign = sp.Symbol(r'm_{\\Sigma^{-}}',real=True,positive=True)\n",
    "\n",
    "eq1 = sp.Eq(m_Sigz,m_u + m_d + m_s - V)\n",
    "eq2 = sp.Eq(m_Sigp,2*m_u + m_s)\n",
    "eq3 = sp.Eq(m_Sign,2*m_d + m_s + V)\n",
    "\n",
    "display(eq1)\n",
    "display(eq2)\n",
    "display(eq3)"
   ]
  },
  {
   "cell_type": "code",
   "execution_count": 34,
   "id": "0b225881-354f-40c1-9a8d-bc8646edc431",
   "metadata": {},
   "outputs": [],
   "source": [
    "sol = sp.solve([eq1,eq2,eq3],[m_u,m_d,V])\n",
    "\n",
    "mu = sol[m_u]\n",
    "md = sol[m_d]"
   ]
  },
  {
   "cell_type": "code",
   "execution_count": 35,
   "id": "2b56d6c6-bdd5-4621-b775-c1de91be45e8",
   "metadata": {},
   "outputs": [
    {
     "data": {
      "text/latex": [
       "$\\displaystyle m_{u} = - \\frac{m_{s}}{2} + \\frac{m_{\\Sigma^{+}}}{2}$"
      ],
      "text/plain": [
       "Eq(m_u, -m_s/2 + m_{\\Sigma^{+}}/2)"
      ]
     },
     "metadata": {},
     "output_type": "display_data"
    },
    {
     "data": {
      "text/latex": [
       "$\\displaystyle m_{d} = - \\frac{m_{s}}{2} - \\frac{m_{\\Sigma^{+}}}{6} + \\frac{m_{\\Sigma^{-}}}{3} + \\frac{m_{\\Sigma^{0}}}{3}$"
      ],
      "text/plain": [
       "Eq(m_d, -m_s/2 - m_{\\Sigma^{+}}/6 + m_{\\Sigma^{-}}/3 + m_{\\Sigma^{0}}/3)"
      ]
     },
     "metadata": {},
     "output_type": "display_data"
    },
    {
     "data": {
      "text/latex": [
       "$\\displaystyle m_{d} - m_{u} = - \\frac{2 m_{\\Sigma^{+}} - m_{\\Sigma^{-}} - m_{\\Sigma^{0}}}{3}$"
      ],
      "text/plain": [
       "Eq(m_d - m_u, -(2*m_{\\Sigma^{+}} - m_{\\Sigma^{-}} - m_{\\Sigma^{0}})/3)"
      ]
     },
     "metadata": {},
     "output_type": "display_data"
    },
    {
     "data": {
      "text/latex": [
       "$\\displaystyle V = \\frac{m_{\\Sigma^{+}} + m_{\\Sigma^{-}} - 2 m_{\\Sigma^{0}}}{3}$"
      ],
      "text/plain": [
       "Eq(V, (m_{\\Sigma^{+}} + m_{\\Sigma^{-}} - 2*m_{\\Sigma^{0}})/3)"
      ]
     },
     "metadata": {},
     "output_type": "display_data"
    }
   ],
   "source": [
    "display(sp.Eq(m_u,mu))\n",
    "display(sp.Eq(m_d,md))\n",
    "display(sp.Eq(m_d-m_u,(md-mu).simplify().factor()))\n",
    "display(sp.Eq(V,sol[V].factor()))"
   ]
  },
  {
   "cell_type": "code",
   "execution_count": 37,
   "id": "12e7966f-45e4-4f67-9e50-6f68b3e52540",
   "metadata": {},
   "outputs": [],
   "source": [
    "dm_ud = sp.lambdify((m_Sigz,m_Sigp,m_Sign),(md-mu).simplify(),'numpy')\n",
    "V_    = sp.lambdify((m_Sigz,m_Sigp,m_Sign),sol[V],'numpy')"
   ]
  },
  {
   "cell_type": "code",
   "execution_count": 38,
   "id": "e1b16603-6137-4b15-91a2-1a113b458d3a",
   "metadata": {},
   "outputs": [
    {
     "name": "stdout",
     "output_type": "stream",
     "text": [
      "3.78 MeV\n",
      "0.51 MeV\n"
     ]
    }
   ],
   "source": [
    "mSigz = Q_(baryon_octet().info['Sigma^{0}']['m'],'MeV')\n",
    "mSigp = Q_(baryon_octet().info['Sigma^{+}']['m'],'MeV')\n",
    "mSign = Q_(baryon_octet().info['Sigma^{-}']['m'],'MeV')\n",
    "\n",
    "print('{:.2f~P}'.format(dm_ud(mSigz,mSigp,mSign)))\n",
    "print('{:.2f~P}'.format(V_(mSigz,mSigp,mSign)))"
   ]
  },
  {
   "cell_type": "code",
   "execution_count": 29,
   "id": "f0ffa81c-ad59-4582-93f3-e6bb8c43c665",
   "metadata": {},
   "outputs": [
    {
     "name": "stdout",
     "output_type": "stream",
     "text": [
      "0.9379007179009835 fermi\n"
     ]
    }
   ],
   "source": [
    "qe    = Q_(1.602e-19,'C')\n",
    "eps_0 = Q_(8.854e-12,'F/m')\n",
    "r_avg = qe**2/(12*np.pi*eps_0*V_(mSigz,mSigp,mSign))\n",
    "print(r_avg.to('fm'))"
   ]
  },
  {
   "cell_type": "code",
   "execution_count": null,
   "id": "f26be60f-505f-4802-a2e4-8664961d3382",
   "metadata": {},
   "outputs": [],
   "source": []
  },
  {
   "cell_type": "code",
   "execution_count": null,
   "id": "d07d7d61-79bb-4dbd-82b1-47b3355caeb5",
   "metadata": {},
   "outputs": [],
   "source": []
  },
  {
   "cell_type": "code",
   "execution_count": null,
   "id": "141f9fde-f777-4bc0-a158-108f6832ea3f",
   "metadata": {},
   "outputs": [],
   "source": []
  },
  {
   "cell_type": "code",
   "execution_count": null,
   "id": "d90936e1-4858-488a-b467-80c42e209779",
   "metadata": {},
   "outputs": [],
   "source": []
  },
  {
   "cell_type": "code",
   "execution_count": null,
   "id": "f962f1d1-4102-4316-8a85-d8387df2f7a4",
   "metadata": {},
   "outputs": [],
   "source": []
  },
  {
   "cell_type": "code",
   "execution_count": null,
   "id": "d59d1576-ddbb-48fd-b927-da5126affdaa",
   "metadata": {},
   "outputs": [],
   "source": []
  }
 ],
 "metadata": {
  "kernelspec": {
   "display_name": "Python 3 (ipykernel)",
   "language": "python",
   "name": "python3"
  },
  "language_info": {
   "codemirror_mode": {
    "name": "ipython",
    "version": 3
   },
   "file_extension": ".py",
   "mimetype": "text/x-python",
   "name": "python",
   "nbconvert_exporter": "python",
   "pygments_lexer": "ipython3",
   "version": "3.9.7"
  }
 },
 "nbformat": 4,
 "nbformat_minor": 5
}
